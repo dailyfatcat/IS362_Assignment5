{
 "cells": [
  {
   "cell_type": "markdown",
   "metadata": {
    "collapsed": true,
    "pycharm": {
     "name": "#%% md\n"
    }
   },
   "source": [
    "Assignment 5\n",
    "=====================\n",
    "**This weeks assignment should answer three questions**\n",
    "\n",
    "*1. What is the northernmost airport in the United States?*\n",
    "*2. What is the easternmost airport in the United States?*\n",
    "*3. On February 12th, 2013, which New York area airport had the windiest weather?*\n",
    "Use information from the CSV file:\n",
    "[GithubLink](https://github.com/hadley/nycflights13/tree/master/data-raw)"
   ]
  },
  {
   "cell_type": "code",
   "execution_count": 39,
   "outputs": [],
   "source": [
    "#import statements\n",
    "import pandas as pd\n",
    "from pandas import DataFrame, Series\n",
    "import numpy as np\n",
    "from matplotlib import pyplot as plt\n",
    "import matplotlib\n",
    "%matplotlib inline\n",
    "\n",
    "#Read information from file into pandas dataframe\n",
    "airlines = pd.read_csv('airports.csv')\n",
    "weather = pd.read_csv('weather.csv')"
   ],
   "metadata": {
    "collapsed": false,
    "pycharm": {
     "name": "#%%\n"
    }
   }
  },
  {
   "cell_type": "markdown",
   "source": [
    "1. What is the northernmost airport in the United States?\n",
    "----------------------------------------------------\n",
    "In the airports data there is a column for the name [name], latitude[lat], longitude[long] and TimeZone [tzone].\n",
    "If we are looking for the nothernmost airpot in the United States we need to sort the dataframe by descending\n",
    "We need to look at those airports that have American in the Timezone, and which ones have the highest latitude\n",
    "We are going to tidy up the data, removing missing columns where there are missing values\n",
    "\n",
    "**Answer:** Wiley Post Will Rogers Mem is the northern most airport in the U.S."
   ],
   "metadata": {
    "collapsed": false,
    "pycharm": {
     "name": "#%% md\n"
    }
   }
  },
  {
   "cell_type": "code",
   "execution_count": 40,
   "outputs": [
    {
     "data": {
      "text/plain": "      faa                                        name        lat         lon  \\\n230   BRW                  Wiley Post Will Rogers Mem  71.285446 -156.766003   \n110   AIN                          Wainwright Airport  70.638056 -159.994722   \n708   K03                               Wainwright As  70.613378 -159.860350   \n152   ATK  Atqasuk Edward Burnell Sr Memorial Airport  70.467300 -157.436000   \n1363  UUK                        Ugnu-Kuparuk Airport  70.330833 -149.597500   \n\n      alt  tz dst              tzone  \n230    44  -9   A  America/Anchorage  \n110    41  -9   A  America/Anchorage  \n708    35  -9   A  America/Anchorage  \n152    96  -9   A  America/Anchorage  \n1363   67  -9   A  America/Anchorage  ",
      "text/html": "<div>\n<style scoped>\n    .dataframe tbody tr th:only-of-type {\n        vertical-align: middle;\n    }\n\n    .dataframe tbody tr th {\n        vertical-align: top;\n    }\n\n    .dataframe thead th {\n        text-align: right;\n    }\n</style>\n<table border=\"1\" class=\"dataframe\">\n  <thead>\n    <tr style=\"text-align: right;\">\n      <th></th>\n      <th>faa</th>\n      <th>name</th>\n      <th>lat</th>\n      <th>lon</th>\n      <th>alt</th>\n      <th>tz</th>\n      <th>dst</th>\n      <th>tzone</th>\n    </tr>\n  </thead>\n  <tbody>\n    <tr>\n      <th>230</th>\n      <td>BRW</td>\n      <td>Wiley Post Will Rogers Mem</td>\n      <td>71.285446</td>\n      <td>-156.766003</td>\n      <td>44</td>\n      <td>-9</td>\n      <td>A</td>\n      <td>America/Anchorage</td>\n    </tr>\n    <tr>\n      <th>110</th>\n      <td>AIN</td>\n      <td>Wainwright Airport</td>\n      <td>70.638056</td>\n      <td>-159.994722</td>\n      <td>41</td>\n      <td>-9</td>\n      <td>A</td>\n      <td>America/Anchorage</td>\n    </tr>\n    <tr>\n      <th>708</th>\n      <td>K03</td>\n      <td>Wainwright As</td>\n      <td>70.613378</td>\n      <td>-159.860350</td>\n      <td>35</td>\n      <td>-9</td>\n      <td>A</td>\n      <td>America/Anchorage</td>\n    </tr>\n    <tr>\n      <th>152</th>\n      <td>ATK</td>\n      <td>Atqasuk Edward Burnell Sr Memorial Airport</td>\n      <td>70.467300</td>\n      <td>-157.436000</td>\n      <td>96</td>\n      <td>-9</td>\n      <td>A</td>\n      <td>America/Anchorage</td>\n    </tr>\n    <tr>\n      <th>1363</th>\n      <td>UUK</td>\n      <td>Ugnu-Kuparuk Airport</td>\n      <td>70.330833</td>\n      <td>-149.597500</td>\n      <td>67</td>\n      <td>-9</td>\n      <td>A</td>\n      <td>America/Anchorage</td>\n    </tr>\n  </tbody>\n</table>\n</div>"
     },
     "execution_count": 40,
     "metadata": {},
     "output_type": "execute_result"
    }
   ],
   "source": [
    "#Tidy up the data\n",
    "#Drop values where there is no data, NaN values\n",
    "airlines.dropna(inplace=True, axis='rows')\n",
    "\n",
    "#Sort by descending values\n",
    "airlines.sort_values('lat', ascending=False).head()\n",
    "\n"
   ],
   "metadata": {
    "collapsed": false,
    "pycharm": {
     "name": "#%%\n"
    }
   }
  },
  {
   "cell_type": "markdown",
   "source": [
    "The can be confirmed with some research, if we look at the data and America/Anchorage is the northern most state in the U.S.\n",
    "Additionally if looking at Wikipedia we can see that on the map the location is at the northern most part of Alaska.\n",
    "[Wikipedia](https://en.wikipedia.org/wiki/Wiley_Post%E2%80%93Will_Rogers_Memorial_Airport)\n",
    "\n",
    "**2. What is the easternmost airport in the United States?**\n",
    "\n",
    "To determine what numbers should be used we can look at Google Earth map\n",
    "[Google Earth](https://earth.google.com/web/@37.94115227,-76.35027818,-590.77010743a,4460383.6239177d,35y,0.00000121h,0t,0r)\n",
    "The eastern part of the United States is between 60 degrees to 80 degrees latitude\n",
    "And between 48 degrees and 37 degrees longetitude\n",
    "If we look at the data in the file though, the lat is what is the value between 48 and 37\n",
    "If we look at the data in the file though, the long should be negative values"
   ],
   "metadata": {
    "collapsed": false,
    "pycharm": {
     "name": "#%% md\n"
    }
   }
  },
  {
   "cell_type": "code",
   "execution_count": 41,
   "outputs": [
    {
     "data": {
      "text/plain": "      faa                                 name        lat        lon  alt  tz  \\\n1398  WFK  Northern Aroostook Regional Airport  47.285556 -68.312778  988  -5   \n259   CAR                         Caribou Muni  46.871500 -68.017917  626  -5   \n1101  PQI  Northern Maine Rgnl At Presque Isle  46.688958 -68.044797  534  -5   \n624   HUL                         Houlton Intl  46.123083 -67.792056  489  -5   \n894   MLT                     Millinocket Muni  45.647836 -68.685561  408  -5   \n\n     dst             tzone  \n1398   A  America/New_York  \n259    A  America/New_York  \n1101   A  America/New_York  \n624    A  America/New_York  \n894    A  America/New_York  ",
      "text/html": "<div>\n<style scoped>\n    .dataframe tbody tr th:only-of-type {\n        vertical-align: middle;\n    }\n\n    .dataframe tbody tr th {\n        vertical-align: top;\n    }\n\n    .dataframe thead th {\n        text-align: right;\n    }\n</style>\n<table border=\"1\" class=\"dataframe\">\n  <thead>\n    <tr style=\"text-align: right;\">\n      <th></th>\n      <th>faa</th>\n      <th>name</th>\n      <th>lat</th>\n      <th>lon</th>\n      <th>alt</th>\n      <th>tz</th>\n      <th>dst</th>\n      <th>tzone</th>\n    </tr>\n  </thead>\n  <tbody>\n    <tr>\n      <th>1398</th>\n      <td>WFK</td>\n      <td>Northern Aroostook Regional Airport</td>\n      <td>47.285556</td>\n      <td>-68.312778</td>\n      <td>988</td>\n      <td>-5</td>\n      <td>A</td>\n      <td>America/New_York</td>\n    </tr>\n    <tr>\n      <th>259</th>\n      <td>CAR</td>\n      <td>Caribou Muni</td>\n      <td>46.871500</td>\n      <td>-68.017917</td>\n      <td>626</td>\n      <td>-5</td>\n      <td>A</td>\n      <td>America/New_York</td>\n    </tr>\n    <tr>\n      <th>1101</th>\n      <td>PQI</td>\n      <td>Northern Maine Rgnl At Presque Isle</td>\n      <td>46.688958</td>\n      <td>-68.044797</td>\n      <td>534</td>\n      <td>-5</td>\n      <td>A</td>\n      <td>America/New_York</td>\n    </tr>\n    <tr>\n      <th>624</th>\n      <td>HUL</td>\n      <td>Houlton Intl</td>\n      <td>46.123083</td>\n      <td>-67.792056</td>\n      <td>489</td>\n      <td>-5</td>\n      <td>A</td>\n      <td>America/New_York</td>\n    </tr>\n    <tr>\n      <th>894</th>\n      <td>MLT</td>\n      <td>Millinocket Muni</td>\n      <td>45.647836</td>\n      <td>-68.685561</td>\n      <td>408</td>\n      <td>-5</td>\n      <td>A</td>\n      <td>America/New_York</td>\n    </tr>\n  </tbody>\n</table>\n</div>"
     },
     "execution_count": 41,
     "metadata": {},
     "output_type": "execute_result"
    }
   ],
   "source": [
    "#Calculate where the longetitude and lattitude meet the above parameters\n",
    "neairports = airlines[(airlines['lon'] < -60) & (airlines['lon'] > -80) & (airlines['lat'] > 30) & (airlines['lat']  < 50)]\n",
    "neairports.sort_values('lat', ascending=False).head()"
   ],
   "metadata": {
    "collapsed": false,
    "pycharm": {
     "name": "#%%\n"
    }
   }
  },
  {
   "cell_type": "markdown",
   "source": [
    "**Answer:** Northern Aroostook Regional Airport\n",
    "\n",
    "**3. On February 12th, 2013, which New York area airport had the windiest weather?**\n",
    "Our data frame has month, day, year, and wind speed.\n",
    "We want to find the unique airports:"
   ],
   "metadata": {
    "collapsed": false,
    "pycharm": {
     "name": "#%% md\n"
    }
   }
  },
  {
   "cell_type": "code",
   "execution_count": 42,
   "outputs": [
    {
     "data": {
      "text/plain": "array(['EWR', 'JFK', 'LGA'], dtype=object)"
     },
     "execution_count": 42,
     "metadata": {},
     "output_type": "execute_result"
    }
   ],
   "source": [
    "weather.origin.unique()"
   ],
   "metadata": {
    "collapsed": false,
    "pycharm": {
     "name": "#%%\n"
    }
   }
  },
  {
   "cell_type": "markdown",
   "source": [
    "Use Google to determine where these airports are located\n",
    "The three airports are\n",
    "EWR which is located in New Jersey but is still technically a New York airport. JFK which is located in New York. LGA which is located in New York.\n",
    "We will include all results and just limit the results to the date"
   ],
   "metadata": {
    "collapsed": false
   }
  },
  {
   "cell_type": "code",
   "execution_count": 43,
   "outputs": [
    {
     "data": {
      "text/plain": "      origin  year  month  day  hour   temp   dewp  humid  wind_dir  \\\n1009     EWR  2013      2   12     3  39.02  26.96  61.63     260.0   \n18417    LGA  2013      2   12     2  42.98  26.06  50.94     290.0   \n1018     EWR  2013      2   12    12  44.06  26.06  48.87     270.0   \n18428    LGA  2013      2   12    13  44.06  23.00  43.02     300.0   \n18429    LGA  2013      2   12    14  44.06  23.00  43.02     300.0   \n\n       wind_speed  wind_gust  precip  pressure  visib             time_hour  \n1009   1048.36058        NaN     0.0    1008.3   10.0  2013-02-12T08:00:00Z  \n18417    23.01560   31.07106     0.0    1007.1   10.0  2013-02-12T07:00:00Z  \n1018     21.86482   31.07106     0.0    1012.5   10.0  2013-02-12T17:00:00Z  \n18428    21.86482   25.31716     0.0    1011.7   10.0  2013-02-12T18:00:00Z  \n18429    20.71404   25.31716     0.0    1011.5   10.0  2013-02-12T19:00:00Z  ",
      "text/html": "<div>\n<style scoped>\n    .dataframe tbody tr th:only-of-type {\n        vertical-align: middle;\n    }\n\n    .dataframe tbody tr th {\n        vertical-align: top;\n    }\n\n    .dataframe thead th {\n        text-align: right;\n    }\n</style>\n<table border=\"1\" class=\"dataframe\">\n  <thead>\n    <tr style=\"text-align: right;\">\n      <th></th>\n      <th>origin</th>\n      <th>year</th>\n      <th>month</th>\n      <th>day</th>\n      <th>hour</th>\n      <th>temp</th>\n      <th>dewp</th>\n      <th>humid</th>\n      <th>wind_dir</th>\n      <th>wind_speed</th>\n      <th>wind_gust</th>\n      <th>precip</th>\n      <th>pressure</th>\n      <th>visib</th>\n      <th>time_hour</th>\n    </tr>\n  </thead>\n  <tbody>\n    <tr>\n      <th>1009</th>\n      <td>EWR</td>\n      <td>2013</td>\n      <td>2</td>\n      <td>12</td>\n      <td>3</td>\n      <td>39.02</td>\n      <td>26.96</td>\n      <td>61.63</td>\n      <td>260.0</td>\n      <td>1048.36058</td>\n      <td>NaN</td>\n      <td>0.0</td>\n      <td>1008.3</td>\n      <td>10.0</td>\n      <td>2013-02-12T08:00:00Z</td>\n    </tr>\n    <tr>\n      <th>18417</th>\n      <td>LGA</td>\n      <td>2013</td>\n      <td>2</td>\n      <td>12</td>\n      <td>2</td>\n      <td>42.98</td>\n      <td>26.06</td>\n      <td>50.94</td>\n      <td>290.0</td>\n      <td>23.01560</td>\n      <td>31.07106</td>\n      <td>0.0</td>\n      <td>1007.1</td>\n      <td>10.0</td>\n      <td>2013-02-12T07:00:00Z</td>\n    </tr>\n    <tr>\n      <th>1018</th>\n      <td>EWR</td>\n      <td>2013</td>\n      <td>2</td>\n      <td>12</td>\n      <td>12</td>\n      <td>44.06</td>\n      <td>26.06</td>\n      <td>48.87</td>\n      <td>270.0</td>\n      <td>21.86482</td>\n      <td>31.07106</td>\n      <td>0.0</td>\n      <td>1012.5</td>\n      <td>10.0</td>\n      <td>2013-02-12T17:00:00Z</td>\n    </tr>\n    <tr>\n      <th>18428</th>\n      <td>LGA</td>\n      <td>2013</td>\n      <td>2</td>\n      <td>12</td>\n      <td>13</td>\n      <td>44.06</td>\n      <td>23.00</td>\n      <td>43.02</td>\n      <td>300.0</td>\n      <td>21.86482</td>\n      <td>25.31716</td>\n      <td>0.0</td>\n      <td>1011.7</td>\n      <td>10.0</td>\n      <td>2013-02-12T18:00:00Z</td>\n    </tr>\n    <tr>\n      <th>18429</th>\n      <td>LGA</td>\n      <td>2013</td>\n      <td>2</td>\n      <td>12</td>\n      <td>14</td>\n      <td>44.06</td>\n      <td>23.00</td>\n      <td>43.02</td>\n      <td>300.0</td>\n      <td>20.71404</td>\n      <td>25.31716</td>\n      <td>0.0</td>\n      <td>1011.5</td>\n      <td>10.0</td>\n      <td>2013-02-12T19:00:00Z</td>\n    </tr>\n  </tbody>\n</table>\n</div>"
     },
     "execution_count": 43,
     "metadata": {},
     "output_type": "execute_result"
    }
   ],
   "source": [
    "weatherresults = weather[(weather['month']==2) & (weather['day']==12) & (weather['year']==2013)]\n",
    "weatherresults.sort_values('wind_speed', ascending=False).head()"
   ],
   "metadata": {
    "collapsed": false,
    "pycharm": {
     "name": "#%%\n"
    }
   }
  },
  {
   "cell_type": "markdown",
   "source": [
    "After reviewing the data it appears that without the wind_gust the wind_speed is not an accurate value.\n",
    "We will clean up the data by removing NaN values. Now we can see that LGA had the windiest weather\n",
    "\n",
    "**Answer:** LGA"
   ],
   "metadata": {
    "collapsed": false,
    "pycharm": {
     "name": "#%% md\n"
    }
   }
  },
  {
   "cell_type": "code",
   "execution_count": 44,
   "outputs": [
    {
     "data": {
      "text/plain": "      origin  year  month  day  hour   temp   dewp  humid  wind_dir  \\\n1009     EWR  2013      2   12     3  39.02  26.96  61.63     260.0   \n18417    LGA  2013      2   12     2  42.98  26.06  50.94     290.0   \n1018     EWR  2013      2   12    12  44.06  26.06  48.87     270.0   \n18428    LGA  2013      2   12    13  44.06  23.00  43.02     300.0   \n18429    LGA  2013      2   12    14  44.06  23.00  43.02     300.0   \n\n       wind_speed  wind_gust  precip  pressure  visib             time_hour  \n1009   1048.36058        NaN     0.0    1008.3   10.0  2013-02-12T08:00:00Z  \n18417    23.01560   31.07106     0.0    1007.1   10.0  2013-02-12T07:00:00Z  \n1018     21.86482   31.07106     0.0    1012.5   10.0  2013-02-12T17:00:00Z  \n18428    21.86482   25.31716     0.0    1011.7   10.0  2013-02-12T18:00:00Z  \n18429    20.71404   25.31716     0.0    1011.5   10.0  2013-02-12T19:00:00Z  ",
      "text/html": "<div>\n<style scoped>\n    .dataframe tbody tr th:only-of-type {\n        vertical-align: middle;\n    }\n\n    .dataframe tbody tr th {\n        vertical-align: top;\n    }\n\n    .dataframe thead th {\n        text-align: right;\n    }\n</style>\n<table border=\"1\" class=\"dataframe\">\n  <thead>\n    <tr style=\"text-align: right;\">\n      <th></th>\n      <th>origin</th>\n      <th>year</th>\n      <th>month</th>\n      <th>day</th>\n      <th>hour</th>\n      <th>temp</th>\n      <th>dewp</th>\n      <th>humid</th>\n      <th>wind_dir</th>\n      <th>wind_speed</th>\n      <th>wind_gust</th>\n      <th>precip</th>\n      <th>pressure</th>\n      <th>visib</th>\n      <th>time_hour</th>\n    </tr>\n  </thead>\n  <tbody>\n    <tr>\n      <th>1009</th>\n      <td>EWR</td>\n      <td>2013</td>\n      <td>2</td>\n      <td>12</td>\n      <td>3</td>\n      <td>39.02</td>\n      <td>26.96</td>\n      <td>61.63</td>\n      <td>260.0</td>\n      <td>1048.36058</td>\n      <td>NaN</td>\n      <td>0.0</td>\n      <td>1008.3</td>\n      <td>10.0</td>\n      <td>2013-02-12T08:00:00Z</td>\n    </tr>\n    <tr>\n      <th>18417</th>\n      <td>LGA</td>\n      <td>2013</td>\n      <td>2</td>\n      <td>12</td>\n      <td>2</td>\n      <td>42.98</td>\n      <td>26.06</td>\n      <td>50.94</td>\n      <td>290.0</td>\n      <td>23.01560</td>\n      <td>31.07106</td>\n      <td>0.0</td>\n      <td>1007.1</td>\n      <td>10.0</td>\n      <td>2013-02-12T07:00:00Z</td>\n    </tr>\n    <tr>\n      <th>1018</th>\n      <td>EWR</td>\n      <td>2013</td>\n      <td>2</td>\n      <td>12</td>\n      <td>12</td>\n      <td>44.06</td>\n      <td>26.06</td>\n      <td>48.87</td>\n      <td>270.0</td>\n      <td>21.86482</td>\n      <td>31.07106</td>\n      <td>0.0</td>\n      <td>1012.5</td>\n      <td>10.0</td>\n      <td>2013-02-12T17:00:00Z</td>\n    </tr>\n    <tr>\n      <th>18428</th>\n      <td>LGA</td>\n      <td>2013</td>\n      <td>2</td>\n      <td>12</td>\n      <td>13</td>\n      <td>44.06</td>\n      <td>23.00</td>\n      <td>43.02</td>\n      <td>300.0</td>\n      <td>21.86482</td>\n      <td>25.31716</td>\n      <td>0.0</td>\n      <td>1011.7</td>\n      <td>10.0</td>\n      <td>2013-02-12T18:00:00Z</td>\n    </tr>\n    <tr>\n      <th>18429</th>\n      <td>LGA</td>\n      <td>2013</td>\n      <td>2</td>\n      <td>12</td>\n      <td>14</td>\n      <td>44.06</td>\n      <td>23.00</td>\n      <td>43.02</td>\n      <td>300.0</td>\n      <td>20.71404</td>\n      <td>25.31716</td>\n      <td>0.0</td>\n      <td>1011.5</td>\n      <td>10.0</td>\n      <td>2013-02-12T19:00:00Z</td>\n    </tr>\n  </tbody>\n</table>\n</div>"
     },
     "execution_count": 44,
     "metadata": {},
     "output_type": "execute_result"
    }
   ],
   "source": [
    "#Drop values where there is no data, NaN values\n",
    "#newweather = weatherresults.dropna()\n",
    "newweather = weather[(weather['month']==2) & (weather['day']==12) & (weather['year']==2013)]\n",
    "newweather.sort_values('wind_speed', ascending=False).head()"
   ],
   "metadata": {
    "collapsed": false,
    "pycharm": {
     "name": "#%%\n"
    }
   }
  }
 ],
 "metadata": {
  "kernelspec": {
   "display_name": "Python 3",
   "language": "python",
   "name": "python3"
  },
  "language_info": {
   "codemirror_mode": {
    "name": "ipython",
    "version": 2
   },
   "file_extension": ".py",
   "mimetype": "text/x-python",
   "name": "python",
   "nbconvert_exporter": "python",
   "pygments_lexer": "ipython2",
   "version": "2.7.6"
  }
 },
 "nbformat": 4,
 "nbformat_minor": 0
}